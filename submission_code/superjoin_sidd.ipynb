{
  "cells": [
    {
      "cell_type": "code",
      "execution_count": 1,
      "metadata": {
        "colab": {
          "base_uri": "https://localhost:8080/"
        },
        "id": "C7EP993-IROW",
        "outputId": "eff2779b-32fc-439d-bac3-a0f447fb37bf",
        "collapsed": true
      },
      "outputs": [
        {
          "output_type": "stream",
          "name": "stdout",
          "text": [
            "Requirement already satisfied: gspread in /usr/local/lib/python3.10/dist-packages (6.0.2)\n",
            "Requirement already satisfied: google-auth>=1.12.0 in /usr/local/lib/python3.10/dist-packages (from gspread) (2.27.0)\n",
            "Requirement already satisfied: google-auth-oauthlib>=0.4.1 in /usr/local/lib/python3.10/dist-packages (from gspread) (1.2.1)\n",
            "Requirement already satisfied: StrEnum==0.4.15 in /usr/local/lib/python3.10/dist-packages (from gspread) (0.4.15)\n",
            "Requirement already satisfied: cachetools<6.0,>=2.0.0 in /usr/local/lib/python3.10/dist-packages (from google-auth>=1.12.0->gspread) (5.5.0)\n",
            "Requirement already satisfied: pyasn1-modules>=0.2.1 in /usr/local/lib/python3.10/dist-packages (from google-auth>=1.12.0->gspread) (0.4.1)\n",
            "Requirement already satisfied: rsa<5,>=3.1.4 in /usr/local/lib/python3.10/dist-packages (from google-auth>=1.12.0->gspread) (4.9)\n",
            "Requirement already satisfied: requests-oauthlib>=0.7.0 in /usr/local/lib/python3.10/dist-packages (from google-auth-oauthlib>=0.4.1->gspread) (1.3.1)\n",
            "Requirement already satisfied: pyasn1<0.7.0,>=0.4.6 in /usr/local/lib/python3.10/dist-packages (from pyasn1-modules>=0.2.1->google-auth>=1.12.0->gspread) (0.6.1)\n",
            "Requirement already satisfied: oauthlib>=3.0.0 in /usr/local/lib/python3.10/dist-packages (from requests-oauthlib>=0.7.0->google-auth-oauthlib>=0.4.1->gspread) (3.2.2)\n",
            "Requirement already satisfied: requests>=2.0.0 in /usr/local/lib/python3.10/dist-packages (from requests-oauthlib>=0.7.0->google-auth-oauthlib>=0.4.1->gspread) (2.32.3)\n",
            "Requirement already satisfied: charset-normalizer<4,>=2 in /usr/local/lib/python3.10/dist-packages (from requests>=2.0.0->requests-oauthlib>=0.7.0->google-auth-oauthlib>=0.4.1->gspread) (3.3.2)\n",
            "Requirement already satisfied: idna<4,>=2.5 in /usr/local/lib/python3.10/dist-packages (from requests>=2.0.0->requests-oauthlib>=0.7.0->google-auth-oauthlib>=0.4.1->gspread) (3.8)\n",
            "Requirement already satisfied: urllib3<3,>=1.21.1 in /usr/local/lib/python3.10/dist-packages (from requests>=2.0.0->requests-oauthlib>=0.7.0->google-auth-oauthlib>=0.4.1->gspread) (2.0.7)\n",
            "Requirement already satisfied: certifi>=2017.4.17 in /usr/local/lib/python3.10/dist-packages (from requests>=2.0.0->requests-oauthlib>=0.7.0->google-auth-oauthlib>=0.4.1->gspread) (2024.8.30)\n",
            "Requirement already satisfied: google-auth in /usr/local/lib/python3.10/dist-packages (2.27.0)\n",
            "Requirement already satisfied: cachetools<6.0,>=2.0.0 in /usr/local/lib/python3.10/dist-packages (from google-auth) (5.5.0)\n",
            "Requirement already satisfied: pyasn1-modules>=0.2.1 in /usr/local/lib/python3.10/dist-packages (from google-auth) (0.4.1)\n",
            "Requirement already satisfied: rsa<5,>=3.1.4 in /usr/local/lib/python3.10/dist-packages (from google-auth) (4.9)\n",
            "Requirement already satisfied: pyasn1<0.7.0,>=0.4.6 in /usr/local/lib/python3.10/dist-packages (from pyasn1-modules>=0.2.1->google-auth) (0.6.1)\n"
          ]
        }
      ],
      "source": [
        "!pip install gspread\n",
        "!pip install google-auth\n"
      ]
    },
    {
      "cell_type": "code",
      "source": [
        "import sqlite3"
      ],
      "metadata": {
        "collapsed": true,
        "id": "02C-IJ72xh4Z"
      },
      "execution_count": 2,
      "outputs": []
    },
    {
      "cell_type": "code",
      "source": [
        "import sqlite3\n",
        "import gspread\n",
        "from google.oauth2.service_account import Credentials\n",
        "\n",
        "# Google Sheets setup\n",
        "SCOPE = ['https://spreadsheets.google.com/feeds', 'https://www.googleapis.com/auth/drive']\n",
        "creds = Credentials.from_service_account_file('/content/credentials.json', scopes=SCOPE)\n",
        "client = gspread.authorize(creds)\n",
        "\n",
        "sheet = client.open_by_url('https://docs.google.com/spreadsheets/d/187uudwa8AuEx_2XFm2RT29SKCj7l1KRBEF2ooVbVYBg/edit#gid=0')\n",
        "worksheet = sheet.get_worksheet(0)\n",
        "\n",
        "# Database functions with context manager\n",
        "def connect_to_db():\n",
        "    \"\"\"Create a connection to the SQLite database.\"\"\"\n",
        "    return sqlite3.connect('sync_db.db')\n",
        "\n",
        "def create_table():\n",
        "    \"\"\"Create the table if it doesn't already exist.\"\"\"\n",
        "    with connect_to_db() as conn:\n",
        "        cursor = conn.cursor()\n",
        "        cursor.execute('''\n",
        "            CREATE TABLE IF NOT EXISTS sync_table (\n",
        "                id INTEGER PRIMARY KEY AUTOINCREMENT,\n",
        "                name TEXT,\n",
        "                email TEXT,\n",
        "                phone_number TEXT\n",
        "            )\n",
        "        ''')\n",
        "        conn.commit()\n",
        "\n",
        "def sync_google_sheets_to_sqlite():\n",
        "    \"\"\"Sync data from Google Sheets to the SQLite database.\"\"\"\n",
        "    with connect_to_db() as conn:\n",
        "        cursor = conn.cursor()\n",
        "        rows = worksheet.get_all_values()[1:]  # Skip the header\n",
        "\n",
        "        if not all(len(row) == 3 for row in rows):\n",
        "            raise ValueError(\"Data rows do not match the expected format of 3 columns.\")\n",
        "\n",
        "        # Clear the SQLite table\n",
        "        cursor.execute(\"DELETE FROM sync_table\")\n",
        "\n",
        "        # Insert data from Google Sheets into SQLite\n",
        "        cursor.executemany(\"INSERT INTO sync_table (name, email, phone_number) VALUES (?, ?, ?)\", rows)\n",
        "\n",
        "        conn.commit()\n",
        "    print(\"Google Sheets data synced to SQLite successfully!\")\n",
        "\n",
        "def sync_sqlite_to_google_sheets():\n",
        "    \"\"\"Sync data from the SQLite database to Google Sheets.\"\"\"\n",
        "    with connect_to_db() as conn:\n",
        "        cursor = conn.cursor()\n",
        "        cursor.execute(\"SELECT name, email, phone_number FROM sync_table\")\n",
        "        rows = cursor.fetchall()\n",
        "\n",
        "    # Clear existing data in the Google Sheet and insert headers\n",
        "    worksheet.clear()  # Clears all the content in the sheet\n",
        "    worksheet.append_row([\"Name\", \"Email\", \"Phone Number\"])\n",
        "\n",
        "    # Insert SQLite rows back to Google Sheets\n",
        "    for row in rows:\n",
        "        worksheet.append_row(list(row))\n",
        "\n",
        "    print(\"SQLite data synced to Google Sheets successfully!\")\n",
        "\n",
        "def sync_bidirectional():\n",
        "    \"\"\"Perform bidirectional synchronization between Google Sheets and SQLite.\"\"\"\n",
        "    sync_google_sheets_to_sqlite()\n",
        "    sync_sqlite_to_google_sheets()\n",
        "\n",
        "# Create the table if it doesn't exist\n",
        "create_table()\n",
        "\n",
        "# Perform the bidirectional sync\n",
        "\n"
      ],
      "metadata": {
        "id": "gNrIXzxf6eU1"
      },
      "execution_count": 5,
      "outputs": []
    },
    {
      "cell_type": "code",
      "source": [
        "sync_google_sheets_to_sqlite()"
      ],
      "metadata": {
        "colab": {
          "base_uri": "https://localhost:8080/"
        },
        "id": "0hpQk-mBHrmn",
        "outputId": "d7a52fe0-0bf0-4225-ad98-259838ee366e"
      },
      "execution_count": 11,
      "outputs": [
        {
          "output_type": "stream",
          "name": "stdout",
          "text": [
            "Google Sheets data synced to SQLite successfully!\n"
          ]
        }
      ]
    },
    {
      "cell_type": "code",
      "source": [
        "sync_sqlite_to_google_sheets()"
      ],
      "metadata": {
        "colab": {
          "base_uri": "https://localhost:8080/"
        },
        "id": "6tkRou5DHssF",
        "outputId": "cf137b31-8726-4568-afdd-125137ff859f"
      },
      "execution_count": 16,
      "outputs": [
        {
          "output_type": "stream",
          "name": "stdout",
          "text": [
            "SQLite data synced to Google Sheets successfully!\n"
          ]
        }
      ]
    },
    {
      "cell_type": "code",
      "source": [
        "def show_data_from_db():\n",
        "    conn = connect_to_db()\n",
        "    cursor = conn.cursor()\n",
        "\n",
        "    # Query to fetch all data from sync_table\n",
        "    cursor.execute(\"SELECT * FROM sync_table\")\n",
        "    rows = cursor.fetchall()\n",
        "\n",
        "    # Print the results\n",
        "    print(\"Data from SQLite database:\")\n",
        "    for row in rows:\n",
        "        print(row)\n",
        "\n",
        "    cursor.close()\n",
        "    conn.close()\n",
        "show_data_from_db()"
      ],
      "metadata": {
        "colab": {
          "base_uri": "https://localhost:8080/"
        },
        "id": "49BVYqXO1pm3",
        "outputId": "89677617-cda8-422d-a592-0e2846727f64"
      },
      "execution_count": 15,
      "outputs": [
        {
          "output_type": "stream",
          "name": "stdout",
          "text": [
            "Data from SQLite database:\n",
            "(4, 'Alice Johnson', 'alice.johnson@example.com', '+1234567890')\n",
            "(5, 'Bob Smith', 'bob.smith@example.com', '+0987654321')\n",
            "(6, 'Charlie Brown', 'charlie.brown@example.com', '+1122334455')\n"
          ]
        }
      ]
    },
    {
      "cell_type": "code",
      "source": [
        "def insert_sample_records():\n",
        "    \"\"\"Insert some sample records into the SQLite database.\"\"\"\n",
        "    sample_records = [\n",
        "        ('Alice Johnson', 'alice.johnson@example.com', '+1234567890'),\n",
        "        ('Bob Smith', 'bob.smith@example.com', '+0987654321'),\n",
        "        ('Charlie Brown', 'charlie.brown@example.com', '+1122334455')\n",
        "    ]\n",
        "\n",
        "    with connect_to_db() as conn:\n",
        "        cursor = conn.cursor()\n",
        "        cursor.executemany(\"INSERT INTO sync_table (name, email, phone_number) VALUES (?, ?, ?)\", sample_records)\n",
        "        conn.commit()\n",
        "\n",
        "    print(\"Sample records inserted into SQLite database successfully!\")\n",
        "insert_sample_records()"
      ],
      "metadata": {
        "colab": {
          "base_uri": "https://localhost:8080/"
        },
        "id": "2i97igRH3g0O",
        "outputId": "74936b00-c73c-4029-d52e-cee28c36c6ca"
      },
      "execution_count": 14,
      "outputs": [
        {
          "output_type": "stream",
          "name": "stdout",
          "text": [
            "Sample records inserted into SQLite database successfully!\n"
          ]
        }
      ]
    },
    {
      "cell_type": "code",
      "source": [],
      "metadata": {
        "id": "VbSMzL1N7zkr"
      },
      "execution_count": null,
      "outputs": []
    }
  ],
  "metadata": {
    "accelerator": "GPU",
    "colab": {
      "gpuType": "T4",
      "provenance": []
    },
    "kernelspec": {
      "display_name": "Python 3",
      "name": "python3"
    },
    "language_info": {
      "name": "python"
    }
  },
  "nbformat": 4,
  "nbformat_minor": 0
}